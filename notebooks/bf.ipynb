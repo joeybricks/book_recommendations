{
 "cells": [
  {
   "cell_type": "code",
   "execution_count": 2,
   "metadata": {},
   "outputs": [
    {
     "name": "stdout",
     "output_type": "stream",
     "text": [
      "Calculated Body Density: 1.0775834825\n"
     ]
    }
   ],
   "source": [
    "def calculate_body_density(chest, abs, tricep, suprailiac, mid_axillary, subscapular, thigh, age):\n",
    "    # Sum of skinfolds\n",
    "    sum_of_skinfolds = chest + abs + tricep + suprailiac + mid_axillary + subscapular + thigh\n",
    "\n",
    "    # Calculate body density using the provided formula\n",
    "    body_density = 1.112 - (0.00043499 * sum_of_skinfolds) + (0.00000055 * sum_of_skinfolds ** 2) - (0.00028826 * age)\n",
    "\n",
    "    return body_density\n",
    "\n",
    "# Example usage\n",
    "chest = 1.5  # example measurement in mm\n",
    "abs = 14\n",
    "tricep = 4\n",
    "suprailiac = 9\n",
    "mid_axillary = 4\n",
    "subscapular = 12\n",
    "thigh = 20\n",
    "age = 30  \n",
    "\n",
    "body_density = calculate_body_density(chest, abs, tricep, suprailiac, mid_axillary, subscapular, thigh, age)\n",
    "print(\"Calculated Body Density:\", body_density)\n"
   ]
  }
 ],
 "metadata": {
  "kernelspec": {
   "display_name": ".venv",
   "language": "python",
   "name": "python3"
  },
  "language_info": {
   "codemirror_mode": {
    "name": "ipython",
    "version": 3
   },
   "file_extension": ".py",
   "mimetype": "text/x-python",
   "name": "python",
   "nbconvert_exporter": "python",
   "pygments_lexer": "ipython3",
   "version": "3.10.0"
  }
 },
 "nbformat": 4,
 "nbformat_minor": 2
}
