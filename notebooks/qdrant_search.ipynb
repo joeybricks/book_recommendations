{
 "cells": [
  {
   "cell_type": "code",
   "execution_count": null,
   "metadata": {},
   "outputs": [],
   "source": [
    "import ast\n",
    "import json\n",
    "import numpy as np\n",
    "import pandas as pd\n",
    "import pickle\n",
    "import torch\n",
    "from multiprocessing import Pool\n",
    "from transformers import AutoTokenizer, AutoModel\n",
    "from qdrant_client import QdrantClient\n",
    "from qdrant_client.http.models import PointStruct, Filter, FieldCondition, Range, CollectionDescription\n",
    "from qdrant_client.http import models\n",
    "import sys\n",
    "sys.path.append('../utils')\n",
    "\n",
    "import data_utils as dut "
   ]
  },
  {
   "cell_type": "code",
   "execution_count": null,
   "metadata": {},
   "outputs": [],
   "source": [
    "# Loading the processed records from the file\n",
    "with open('../data/processed/processed_records.pkl', 'rb') as f:\n",
    "    loaded_records = pickle.load(f)"
   ]
  },
  {
   "cell_type": "markdown",
   "metadata": {},
   "source": [
    "# Search\n"
   ]
  },
  {
   "cell_type": "markdown",
   "metadata": {},
   "source": [
    "## Search Params"
   ]
  },
  {
   "cell_type": "code",
   "execution_count": null,
   "metadata": {},
   "outputs": [],
   "source": [
    "# The search string to identify a suitable book\n",
    "search_string = 'Find me a horror book that has an element of fantasy'\n",
    "\n",
    "# Filters - please use None if you don't want to filter on a particular field\n",
    "minimum_rating = None           # Minimum rating of the book as per user reviews\n",
    "desired_category = \"Fiction\"    # Specify the category of the book\n",
    "\n",
    "# The amount of results to return\n",
    "n_return_matches = 5"
   ]
  },
  {
   "cell_type": "code",
   "execution_count": null,
   "metadata": {},
   "outputs": [],
   "source": [
    "# Initialize Qdrant client\n",
    "qdrant_client = QdrantClient(host=\"localhost\", port=6333)\n",
    "\n",
    "# Collection name in Qdrant\n",
    "collection_name = \"books\""
   ]
  },
  {
   "cell_type": "code",
   "execution_count": null,
   "metadata": {},
   "outputs": [],
   "source": [
    "# Filtering the records\n",
    "filter_conditions = []\n",
    "\n",
    "if minimum_rating is not None:\n",
    "    filter_conditions.append(\n",
    "        models.FieldCondition(\n",
    "            key='review/score',\n",
    "            range=models.Range(gte=minimum_rating)\n",
    "        )\n",
    "    )\n",
    "\n",
    "if desired_category is not None:\n",
    "    filter_conditions.append(\n",
    "        models.FieldCondition(\n",
    "            key='categories',\n",
    "            match=models.MatchValue(value=desired_category)\n",
    "        )\n",
    "    )\n",
    "\n",
    "query_filter = models.Filter(must=filter_conditions)"
   ]
  },
  {
   "cell_type": "code",
   "execution_count": null,
   "metadata": {},
   "outputs": [],
   "source": [
    "search_vector = dut.vectorize_texts([search_string], tokenizer, model)[0]\n",
    "# Perform the search\n",
    "search_results = qdrant_client.search(\n",
    "    collection_name=collection_name,\n",
    "    # query_filter=query_filter,\n",
    "    search_params=models.SearchParams(hnsw_ef=128, exact=False),\n",
    "    query_vector=search_vector,\n",
    "    limit=n_return_matches\n",
    ")"
   ]
  },
  {
   "cell_type": "code",
   "execution_count": null,
   "metadata": {},
   "outputs": [],
   "source": [
    "# Process search results to print titles\n",
    "for point in search_results:\n",
    "    point_id = point.id\n",
    "    original_data_str = json_list[point_id]  # Get the original JSON string\n",
    "    original_data_dict = json.loads(original_data_str)  # Parse the string into a dictionary\n",
    "    title = original_data_dict.get('Title', 'No Title Available')\n",
    "    print(f\"Point ID: {point_id}, Title: {title}\")"
   ]
  }
 ],
 "metadata": {
  "language_info": {
   "name": "python"
  }
 },
 "nbformat": 4,
 "nbformat_minor": 2
}
