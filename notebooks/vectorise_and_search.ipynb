{
 "cells": [
  {
   "cell_type": "code",
   "execution_count": 1,
   "metadata": {},
   "outputs": [
    {
     "name": "stderr",
     "output_type": "stream",
     "text": [
      "/Users/joeclayton/Documents/Programming/book_recomendations/.venv/lib/python3.10/site-packages/tqdm/auto.py:21: TqdmWarning: IProgress not found. Please update jupyter and ipywidgets. See https://ipywidgets.readthedocs.io/en/stable/user_install.html\n",
      "  from .autonotebook import tqdm as notebook_tqdm\n"
     ]
    }
   ],
   "source": [
    "import ast\n",
    "import json\n",
    "import numpy as np\n",
    "import pandas as pd\n",
    "import pickle\n",
    "import torch\n",
    "from multiprocessing import Pool\n",
    "from transformers import AutoTokenizer, AutoModel\n",
    "from qdrant_client import QdrantClient\n",
    "from qdrant_client.http.models import PointStruct, Filter, FieldCondition, Range, CollectionDescription\n",
    "from qdrant_client.http import models\n",
    "import sys\n",
    "sys.path.append('../utils')\n",
    "\n",
    "import data_utils as dut "
   ]
  },
  {
   "cell_type": "code",
   "execution_count": 2,
   "metadata": {},
   "outputs": [],
   "source": [
    "data = pd.read_pickle('../data/interim/filtered_data.pkl')"
   ]
  },
  {
   "cell_type": "code",
   "execution_count": null,
   "metadata": {},
   "outputs": [],
   "source": [
    "# create list of JSON strings\n",
    "json_list = []\n",
    "for i in range(len(data)):\n",
    "    json_string = data.loc[i].to_json()\n",
    "    json_list.append(json_string)"
   ]
  },
  {
   "cell_type": "code",
   "execution_count": null,
   "metadata": {},
   "outputs": [],
   "source": [
    "model_name = \"sentence-transformers/all-MiniLM-L6-v2\"\n"
   ]
  },
  {
   "cell_type": "code",
   "execution_count": null,
   "metadata": {},
   "outputs": [],
   "source": [
    "tokenizer = AutoTokenizer.from_pretrained(model_name)\n",
    "model = AutoModel.from_pretrained(model_name)"
   ]
  },
  {
   "cell_type": "code",
   "execution_count": null,
   "metadata": {},
   "outputs": [],
   "source": [
    "# Fields to vectorize and to keep as payloads\n",
    "vector_fields = ['Title', 'description', 'authors', 'review/summary', 'review/text']\n",
    "payload_fields = ['publisher', 'publishedDate',  'categories', 'Id', 'review/score']"
   ]
  },
  {
   "cell_type": "code",
   "execution_count": null,
   "metadata": {},
   "outputs": [],
   "source": [
    "# Parse each JSON string into a Python dictionary\n",
    "records = [json.loads(j) for j in json_list]"
   ]
  },
  {
   "cell_type": "code",
   "execution_count": null,
   "metadata": {},
   "outputs": [],
   "source": [
    "# Process the records\n",
    "processed_records = []\n",
    "for record in records:\n",
    "    vectors = {}\n",
    "    payloads = {}\n",
    "\n",
    "    for key, value in record.items():\n",
    "        if key in vector_fields and value is not None:\n",
    "            if isinstance(value, str):\n",
    "                vectors[key] = dut.vectorize_texts([value], tokenizer, model)[0].tolist()\n",
    "        elif key in payload_fields:\n",
    "            payloads[key] = value\n",
    "\n",
    "    processed_records.append((vectors, payloads))\n"
   ]
  },
  {
   "cell_type": "code",
   "execution_count": null,
   "metadata": {},
   "outputs": [],
   "source": [
    "# Saving the processed records to a file\n",
    "with open('../data/processed/processed_records.pkl', 'wb') as f:\n",
    "    pickle.dump(processed_records, f)\n"
   ]
  }
 ],
 "metadata": {
  "kernelspec": {
   "display_name": ".venv",
   "language": "python",
   "name": "python3"
  },
  "language_info": {
   "codemirror_mode": {
    "name": "ipython",
    "version": 3
   },
   "file_extension": ".py",
   "mimetype": "text/x-python",
   "name": "python",
   "nbconvert_exporter": "python",
   "pygments_lexer": "ipython3",
   "version": "3.10.0"
  }
 },
 "nbformat": 4,
 "nbformat_minor": 2
}
